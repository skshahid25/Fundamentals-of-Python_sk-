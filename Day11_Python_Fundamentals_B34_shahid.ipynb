{
 "cells": [
  {
   "cell_type": "markdown",
   "metadata": {},
   "source": [
    "# Day 11"
   ]
  },
  {
   "cell_type": "code",
   "execution_count": 1,
   "metadata": {},
   "outputs": [],
   "source": [
    "# Intro to conditional statements"
   ]
  },
  {
   "cell_type": "code",
   "execution_count": 3,
   "metadata": {},
   "outputs": [
    {
     "data": {
      "text/plain": [
       "\"if condition:\\n    print('something')\\nelse:\\n    print('other')\""
      ]
     },
     "execution_count": 3,
     "metadata": {},
     "output_type": "execute_result"
    }
   ],
   "source": [
    "# Syntax\n",
    "\n",
    "'''if condition:\n",
    "    print('something')\n",
    "else:\n",
    "    print('other')'''"
   ]
  },
  {
   "cell_type": "code",
   "execution_count": 15,
   "metadata": {},
   "outputs": [],
   "source": [
    "age =20"
   ]
  },
  {
   "cell_type": "code",
   "execution_count": 16,
   "metadata": {},
   "outputs": [
    {
     "name": "stdout",
     "output_type": "stream",
     "text": [
      "you are eligible to vote\n",
      "Welcome for voting, Choose the best\n"
     ]
    }
   ],
   "source": [
    "if age >=18:\n",
    "    print('you are eligible to vote')\n",
    "    print('Welcome for voting, Choose the best')\n",
    "else:\n",
    "    print('you are not eligible to vote')\n",
    "    print('\\nWait for',18-age,'more years bro')"
   ]
  },
  {
   "cell_type": "code",
   "execution_count": 18,
   "metadata": {},
   "outputs": [
    {
     "name": "stdout",
     "output_type": "stream",
     "text": [
      "you are not eligible to vote\n",
      "\n",
      "Wait for 4 more years\n"
     ]
    }
   ],
   "source": [
    "age=14\n",
    "if age >=18:\n",
    "    print('you are eligible to vote')\n",
    "    print('Welcome for voting, Choose the best')\n",
    "else:\n",
    "    print('you are not eligible to vote')\n",
    "    print('\\nWait for',18-age,'more years')"
   ]
  },
  {
   "cell_type": "code",
   "execution_count": 19,
   "metadata": {},
   "outputs": [],
   "source": [
    "#REQ: entry to a park depends on age. The prices vs age as follows:\n",
    "# below 4 years - free\n",
    "# above 4 and below 18 - $20\n",
    "# above 18 - $40"
   ]
  },
  {
   "cell_type": "code",
   "execution_count": 30,
   "metadata": {},
   "outputs": [],
   "source": [
    "age=18\n",
    "amount=0"
   ]
  },
  {
   "cell_type": "code",
   "execution_count": 34,
   "metadata": {},
   "outputs": [
    {
     "name": "stdout",
     "output_type": "stream",
     "text": [
      "welcome adult, Charges are $40\n",
      "\n",
      "Total amount for family is 40\n"
     ]
    }
   ],
   "source": [
    "amount=0\n",
    "if age<4:\n",
    "    print(\"welcome kid, No charges for entry\")\n",
    "elif age<18:\n",
    "    print(\"Welcome teen, Charges are $18\")\n",
    "    amount+=18\n",
    "else:\n",
    "    print(\"welcome adult, Charges are $40\")\n",
    "    amount+=40\n",
    "print('\\nTotal amount for family is',amount)"
   ]
  },
  {
   "cell_type": "code",
   "execution_count": null,
   "metadata": {},
   "outputs": [],
   "source": []
  }
 ],
 "metadata": {
  "kernelspec": {
   "display_name": "Python 3",
   "language": "python",
   "name": "python3"
  },
  "language_info": {
   "codemirror_mode": {
    "name": "ipython",
    "version": 3
   },
   "file_extension": ".py",
   "mimetype": "text/x-python",
   "name": "python",
   "nbconvert_exporter": "python",
   "pygments_lexer": "ipython3",
   "version": "3.8.3"
  }
 },
 "nbformat": 4,
 "nbformat_minor": 4
}
