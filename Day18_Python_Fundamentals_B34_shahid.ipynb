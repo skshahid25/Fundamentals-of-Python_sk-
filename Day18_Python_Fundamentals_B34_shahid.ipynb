{
 "cells": [
  {
   "cell_type": "markdown",
   "metadata": {},
   "source": [
    "# Day 18"
   ]
  },
  {
   "cell_type": "code",
   "execution_count": null,
   "metadata": {},
   "outputs": [],
   "source": [
    "# how to read file in python"
   ]
  },
  {
   "cell_type": "code",
   "execution_count": null,
   "metadata": {},
   "outputs": [],
   "source": [
    "with open('python_sample.txt') as file_object:\n",
    "    contents=file_object.read()\n",
    "    for i in contents:\n",
    "        print(i,end=\"\")\n",
    "    #print(contents)"
   ]
  },
  {
   "cell_type": "code",
   "execution_count": null,
   "metadata": {},
   "outputs": [],
   "source": [
    "sfile='python_sample.txt'\n",
    "with open(sfile) as file_object:\n",
    "    contents=file_object.read()\n",
    "    print(contents[0:20])"
   ]
  },
  {
   "cell_type": "code",
   "execution_count": null,
   "metadata": {},
   "outputs": [],
   "source": [
    "with open(sfile,'w') as f:\n",
    "    f.write('I find happy in learning')\n",
    "    "
   ]
  },
  {
   "cell_type": "code",
   "execution_count": null,
   "metadata": {},
   "outputs": [],
   "source": [
    "with open(sfile) as f:\n",
    "    s=f.read()\n",
    "    print(s)"
   ]
  },
  {
   "cell_type": "code",
   "execution_count": null,
   "metadata": {},
   "outputs": [],
   "source": [
    "with open(sfile,'w') as f:\n",
    "    f.write('Hi this is shahid\\nHope you are enjoying')"
   ]
  },
  {
   "cell_type": "code",
   "execution_count": null,
   "metadata": {},
   "outputs": [],
   "source": [
    "with open(sfile) as f:\n",
    "    s=f.read()\n",
    "    print(s)"
   ]
  },
  {
   "cell_type": "code",
   "execution_count": null,
   "metadata": {},
   "outputs": [],
   "source": [
    "# find out how many words in a file"
   ]
  },
  {
   "cell_type": "code",
   "execution_count": null,
   "metadata": {},
   "outputs": [],
   "source": [
    "with open(sfile) as f:\n",
    "    s=f.read()\n",
    "    #ss=s.spilt()\n",
    "    count=0\n",
    "    for i in s:\n",
    "        if i==\" \":\n",
    "            count+=1\n",
    "    print(count)\n",
    "    print(s)\n",
    "# we are missing to find as they are in two lines"
   ]
  },
  {
   "cell_type": "code",
   "execution_count": null,
   "metadata": {},
   "outputs": [],
   "source": [
    "with open(sfile,'rt') as f:\n",
    "    s=f.read()\n",
    "    f=s.split()\n",
    "    print(f\"The no of words in file are:{len(f)}\")"
   ]
  },
  {
   "cell_type": "code",
   "execution_count": null,
   "metadata": {},
   "outputs": [],
   "source": [
    "fname = input(\"Enter file name: \")\n",
    " \n",
    "num_words = 0\n",
    " \n",
    "with open(fname, 'r') as f:\n",
    "    for line in f:\n",
    "        words = line.split()\n",
    "        num_words += len(words)\n",
    "print(\"Number of words:\")\n",
    "print(num_words)"
   ]
  },
  {
   "cell_type": "code",
   "execution_count": null,
   "metadata": {},
   "outputs": [],
   "source": [
    "with open(sfile) as f:\n",
    "    s=f.read()\n",
    "    print(s)"
   ]
  },
  {
   "cell_type": "code",
   "execution_count": null,
   "metadata": {},
   "outputs": [],
   "source": [
    "with open(sfile) as f:\n",
    "    print(f.read())"
   ]
  },
  {
   "cell_type": "code",
   "execution_count": 108,
   "metadata": {},
   "outputs": [
    {
     "name": "stdout",
     "output_type": "stream",
     "text": [
      "m : 3\n",
      "a : 20\n",
      "n : 9\n",
      "g : 4\n",
      "o : 3\n",
      " : 14\n",
      "b : 5\n",
      "p : 9\n",
      "l : 3\n",
      "e : 8\n",
      "r : 9\n",
      "s : 3\n",
      "t : 2\n",
      "w : 3\n",
      "y : 2\n",
      "k : 1\n",
      "i : 2\n"
     ]
    }
   ],
   "source": [
    "with open(sfile, 'r') as f:\n",
    "    text=f.read()\n",
    "d=dict()\n",
    "\n",
    "for line in text:\n",
    "    line=line.strip()\n",
    "    line=line.lower()\n",
    "    words=line.split(\" \")\n",
    "    for word in words:\n",
    "        if word in d:\n",
    "            d[word]=d[word]+1\n",
    "        else:\n",
    "            d[word]=1\n",
    "\n",
    "for key in list(d.keys()): \n",
    "    print(key, \":\", d[key]) \n",
    "    "
   ]
  },
  {
   "cell_type": "code",
   "execution_count": 110,
   "metadata": {},
   "outputs": [
    {
     "name": "stdout",
     "output_type": "stream",
     "text": [
      "mango : 3\n",
      "banana : 3\n",
      "apple : 3\n",
      "pear : 2\n",
      "grapes : 1\n",
      "strawberry : 2\n",
      "kiwi : 1\n",
      "Time taken for this program is 1.0162672996520996\n"
     ]
    }
   ],
   "source": [
    "import time\n",
    "begin=time.time()\n",
    "# Open the file in read mode \n",
    "text = open(sfile, \"r\") \n",
    "  \n",
    "# Create an empty dictionary \n",
    "d = dict() \n",
    "  \n",
    "# Loop through each line of the file \n",
    "for line in text: \n",
    "    # Remove the leading spaces and newline character \n",
    "    line = line.strip() \n",
    "  \n",
    "    # Convert the characters in line to  \n",
    "    # lowercase to avoid case mismatch \n",
    "    line = line.lower() \n",
    "  \n",
    "    # Split the line into words \n",
    "    words = line.split(\" \") \n",
    "  \n",
    "    # Iterate over each word in line \n",
    "    for word in words: \n",
    "        # Check if the word is already in dictionary \n",
    "        if word in d: \n",
    "            # Increment count of word by 1 \n",
    "            d[word] = d[word] + 1\n",
    "        else: \n",
    "            # Add the word to dictionary with count 1 \n",
    "            d[word] = 1\n",
    "  #Print the contents of dictionary \n",
    "for key in list(d.keys()): \n",
    "    print(key, \":\", d[key]) \n",
    "time.sleep(1)\n",
    "end=time.time()\n",
    "print(f\"Time taken for this program is {end-begin}\")\n"
   ]
  },
  {
   "cell_type": "code",
   "execution_count": null,
   "metadata": {},
   "outputs": [],
   "source": []
  }
 ],
 "metadata": {
  "kernelspec": {
   "display_name": "Python 3",
   "language": "python",
   "name": "python3"
  },
  "language_info": {
   "codemirror_mode": {
    "name": "ipython",
    "version": 3
   },
   "file_extension": ".py",
   "mimetype": "text/x-python",
   "name": "python",
   "nbconvert_exporter": "python",
   "pygments_lexer": "ipython3",
   "version": "3.8.3"
  }
 },
 "nbformat": 4,
 "nbformat_minor": 4
}
