{
 "cells": [
  {
   "cell_type": "markdown",
   "metadata": {},
   "source": [
    "# Day 15"
   ]
  },
  {
   "cell_type": "code",
   "execution_count": 1,
   "metadata": {},
   "outputs": [],
   "source": [
    "# Introduction to python classes:"
   ]
  },
  {
   "cell_type": "code",
   "execution_count": 179,
   "metadata": {},
   "outputs": [],
   "source": [
    "class Dog:\n",
    "    '''Creating a class for dog methods implementations'''\n",
    "    def details(self,name,age):\n",
    "        self.name=name\n",
    "        self.age=age\n",
    "        \n",
    "    def jump(self):\n",
    "        print(f\"{self.name.title()} is jumping now on the command\")\n",
    "        \n",
    "    def sleep(self):\n",
    "        print(f\"{self.name.title()}  is now sleeping\")\n",
    "    \n",
    "    def roll(self):\n",
    "        print(f\"{self.name.title()} of age {self.age} is  now rolling\")\n"
   ]
  },
  {
   "cell_type": "code",
   "execution_count": 180,
   "metadata": {},
   "outputs": [],
   "source": [
    "test=Dog()\n",
    "test.details('rex',4)"
   ]
  },
  {
   "cell_type": "code",
   "execution_count": 181,
   "metadata": {},
   "outputs": [
    {
     "name": "stdout",
     "output_type": "stream",
     "text": [
      "Rex is jumping now on the command\n"
     ]
    }
   ],
   "source": [
    "test.jump()"
   ]
  },
  {
   "cell_type": "code",
   "execution_count": 182,
   "metadata": {},
   "outputs": [
    {
     "name": "stdout",
     "output_type": "stream",
     "text": [
      "Rex of age 4 is  now rolling\n"
     ]
    }
   ],
   "source": [
    "test.roll()"
   ]
  },
  {
   "cell_type": "code",
   "execution_count": 183,
   "metadata": {},
   "outputs": [],
   "source": [
    "xobj=Dog()"
   ]
  },
  {
   "cell_type": "code",
   "execution_count": 184,
   "metadata": {},
   "outputs": [
    {
     "name": "stdout",
     "output_type": "stream",
     "text": [
      "Bravi is jumping now on the command\n",
      "Bravi of age 2 is  now rolling\n"
     ]
    }
   ],
   "source": [
    "xobj.details('bravi',2)\n",
    "xobj.jump()\n",
    "xobj.roll()"
   ]
  },
  {
   "cell_type": "code",
   "execution_count": 185,
   "metadata": {},
   "outputs": [],
   "source": [
    "class students:\n",
    "    '''creating class for students methods '''\n",
    "    def details(self,name,marks):\n",
    "        self.name=name\n",
    "        self.marks=marks\n",
    "        print('Thanks for providing details, Do you want to see status of student marks ')\n",
    "        self.input1=input('Enter yes or no:')\n",
    "        \n",
    "    def section(self):\n",
    "        if self.name[0] > 'n':\n",
    "            print('Section A')\n",
    "        else:\n",
    "            print('Section B')\n",
    "    \n",
    "    def result(self):\n",
    "        if self.marks > 50:\n",
    "            return \"Pass\"\n",
    "        else:\n",
    "            return 'Fail'\n",
    "        \n",
    "    def check5(self):\n",
    "        if self.input1 =='yes':\n",
    "            self.section()\n",
    "            result(self)\n",
    "        else:\n",
    "            print('Thanks')\n",
    "\n",
    "    "
   ]
  },
  {
   "cell_type": "code",
   "execution_count": 186,
   "metadata": {},
   "outputs": [],
   "source": [
    "student1=students()"
   ]
  },
  {
   "cell_type": "code",
   "execution_count": 187,
   "metadata": {},
   "outputs": [
    {
     "name": "stdout",
     "output_type": "stream",
     "text": [
      "Thanks for providing details, Do you want to see status of student marks \n",
      "Enter yes or no:yes\n"
     ]
    }
   ],
   "source": [
    "student1.details('Shahid',90)"
   ]
  },
  {
   "cell_type": "code",
   "execution_count": 188,
   "metadata": {},
   "outputs": [
    {
     "data": {
      "text/plain": [
       "'Pass'"
      ]
     },
     "execution_count": 188,
     "metadata": {},
     "output_type": "execute_result"
    }
   ],
   "source": [
    "student1.result()"
   ]
  },
  {
   "cell_type": "code",
   "execution_count": 189,
   "metadata": {},
   "outputs": [
    {
     "name": "stdout",
     "output_type": "stream",
     "text": [
      "Section B\n"
     ]
    }
   ],
   "source": [
    "student1.section()"
   ]
  },
  {
   "cell_type": "code",
   "execution_count": null,
   "metadata": {},
   "outputs": [],
   "source": []
  },
  {
   "cell_type": "code",
   "execution_count": 190,
   "metadata": {},
   "outputs": [],
   "source": [
    "def check(x):\n",
    "    if x =='yes':\n",
    "        print('ok')\n",
    "        def check1():\n",
    "            print('check1 ran')\n",
    "        check1()\n",
    "    else:\n",
    "        print('Thanks')\n",
    "        def check2():\n",
    "            print('check2 ran')"
   ]
  },
  {
   "cell_type": "code",
   "execution_count": 191,
   "metadata": {},
   "outputs": [
    {
     "name": "stdout",
     "output_type": "stream",
     "text": [
      "ok\n",
      "check1 ran\n"
     ]
    }
   ],
   "source": [
    "check('yes')"
   ]
  },
  {
   "cell_type": "code",
   "execution_count": null,
   "metadata": {},
   "outputs": [],
   "source": []
  },
  {
   "cell_type": "code",
   "execution_count": null,
   "metadata": {},
   "outputs": [],
   "source": []
  }
 ],
 "metadata": {
  "kernelspec": {
   "display_name": "Python 3",
   "language": "python",
   "name": "python3"
  },
  "language_info": {
   "codemirror_mode": {
    "name": "ipython",
    "version": 3
   },
   "file_extension": ".py",
   "mimetype": "text/x-python",
   "name": "python",
   "nbconvert_exporter": "python",
   "pygments_lexer": "ipython3",
   "version": "3.8.3"
  }
 },
 "nbformat": 4,
 "nbformat_minor": 4
}
