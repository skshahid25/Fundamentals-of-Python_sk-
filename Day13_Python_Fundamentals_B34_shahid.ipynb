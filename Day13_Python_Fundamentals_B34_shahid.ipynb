{
 "cells": [
  {
   "cell_type": "markdown",
   "metadata": {},
   "source": [
    "# Day 13"
   ]
  },
  {
   "cell_type": "code",
   "execution_count": 1,
   "metadata": {},
   "outputs": [],
   "source": [
    "# Introduction to functions"
   ]
  },
  {
   "cell_type": "code",
   "execution_count": 3,
   "metadata": {},
   "outputs": [],
   "source": [
    "# How to define a function -------> def"
   ]
  },
  {
   "cell_type": "code",
   "execution_count": 11,
   "metadata": {},
   "outputs": [],
   "source": [
    "# Creating a greet function\n",
    "\n",
    "def greet():\n",
    "    '''Creating a greet function to welcome cilent'''\n",
    "    print(\"Hello, Welcome 😊\")"
   ]
  },
  {
   "cell_type": "code",
   "execution_count": 13,
   "metadata": {},
   "outputs": [
    {
     "name": "stdout",
     "output_type": "stream",
     "text": [
      "Hello, Welcome 😊\n"
     ]
    }
   ],
   "source": [
    "greet() # Calling the function (or) function call"
   ]
  },
  {
   "cell_type": "code",
   "execution_count": 14,
   "metadata": {},
   "outputs": [],
   "source": [
    "# Create a function to greetuser"
   ]
  },
  {
   "cell_type": "code",
   "execution_count": 27,
   "metadata": {},
   "outputs": [],
   "source": [
    "def greetuser(username): # parameters or params\n",
    "    print(f\"Hello, Welcome {username.title()}\")"
   ]
  },
  {
   "cell_type": "code",
   "execution_count": 28,
   "metadata": {},
   "outputs": [
    {
     "name": "stdout",
     "output_type": "stream",
     "text": [
      "Hello, Welcome Shaik Shahid Basha\n"
     ]
    }
   ],
   "source": [
    "greetuser('shaik shahid basha')"
   ]
  },
  {
   "cell_type": "code",
   "execution_count": 29,
   "metadata": {},
   "outputs": [
    {
     "name": "stdout",
     "output_type": "stream",
     "text": [
      "Hello, Welcome Shahid\n"
     ]
    }
   ],
   "source": [
    "greetuser('shahid') #arguments passing or args"
   ]
  },
  {
   "cell_type": "code",
   "execution_count": 30,
   "metadata": {},
   "outputs": [],
   "source": [
    "# create a function called describe pet and output the animal type and name of the pet"
   ]
  },
  {
   "cell_type": "code",
   "execution_count": 32,
   "metadata": {},
   "outputs": [],
   "source": [
    "def describe_pet(animal_type,petname):\n",
    "    print(f\"I have a {animal_type}\")\n",
    "    print(f\"My {animal_type}'s name is {petname}\")"
   ]
  },
  {
   "cell_type": "code",
   "execution_count": 33,
   "metadata": {},
   "outputs": [
    {
     "name": "stdout",
     "output_type": "stream",
     "text": [
      "Please enter the type of your animal:dog\n",
      "Enter your pet name:rem\n",
      "I have a dog\n",
      "My dog's name is rem\n"
     ]
    }
   ],
   "source": [
    "animal_type=input(\"Please enter the type of your animal:\")\n",
    "petname=input(\"Enter your pet name:\")\n",
    "describe_pet(animal_type,petname)"
   ]
  },
  {
   "cell_type": "code",
   "execution_count": 34,
   "metadata": {},
   "outputs": [
    {
     "name": "stdout",
     "output_type": "stream",
     "text": [
      "Please enter the type of your animal: Cat\n",
      "Enter your pet name: Snowbell\n",
      "I have a  Cat\n",
      "My  Cat's name is  Snowbell\n"
     ]
    }
   ],
   "source": [
    "animal_type=input(\"Please enter the type of your animal:\")\n",
    "petname=input(\"Enter your pet name:\")\n",
    "describe_pet(animal_type,petname)\n"
   ]
  },
  {
   "cell_type": "code",
   "execution_count": 35,
   "metadata": {},
   "outputs": [],
   "source": [
    "# muliplication of given number"
   ]
  },
  {
   "cell_type": "code",
   "execution_count": 42,
   "metadata": {},
   "outputs": [
    {
     "name": "stdout",
     "output_type": "stream",
     "text": [
      "Thank for using this program\n"
     ]
    }
   ],
   "source": [
    "def multi(number):\n",
    "    i=1\n",
    "    print('Welcome to multiplication tool')\n",
    "    while i!=11:\n",
    "        print(number,'X',i,'=',number*i)\n",
    "        i+=1\n",
    "print('Thank for using this program')"
   ]
  },
  {
   "cell_type": "code",
   "execution_count": 43,
   "metadata": {},
   "outputs": [
    {
     "name": "stdout",
     "output_type": "stream",
     "text": [
      "Enter the number10\n",
      "Welcome to multiplication tool\n",
      "10 X 1 = 10\n",
      "10 X 2 = 20\n",
      "10 X 3 = 30\n",
      "10 X 4 = 40\n",
      "10 X 5 = 50\n",
      "10 X 6 = 60\n",
      "10 X 7 = 70\n",
      "10 X 8 = 80\n",
      "10 X 9 = 90\n",
      "10 X 10 = 100\n"
     ]
    }
   ],
   "source": [
    "number=int(input('Enter the number'))\n",
    "multi(number)"
   ]
  },
  {
   "cell_type": "code",
   "execution_count": null,
   "metadata": {},
   "outputs": [],
   "source": []
  }
 ],
 "metadata": {
  "kernelspec": {
   "display_name": "Python 3",
   "language": "python",
   "name": "python3"
  },
  "language_info": {
   "codemirror_mode": {
    "name": "ipython",
    "version": 3
   },
   "file_extension": ".py",
   "mimetype": "text/x-python",
   "name": "python",
   "nbconvert_exporter": "python",
   "pygments_lexer": "ipython3",
   "version": "3.8.3"
  }
 },
 "nbformat": 4,
 "nbformat_minor": 4
}
