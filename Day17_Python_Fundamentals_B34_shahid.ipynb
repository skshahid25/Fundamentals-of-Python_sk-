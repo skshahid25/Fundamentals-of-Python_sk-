{
 "cells": [
  {
   "cell_type": "markdown",
   "metadata": {},
   "source": [
    "# Day 17"
   ]
  },
  {
   "cell_type": "code",
   "execution_count": 3,
   "metadata": {},
   "outputs": [],
   "source": [
    "# using constructor which makes user to passing args at time of assiging objects"
   ]
  },
  {
   "cell_type": "code",
   "execution_count": 4,
   "metadata": {},
   "outputs": [],
   "source": [
    "#Req:- Create dog class and accept name,age. use different actions of dog as different method"
   ]
  },
  {
   "cell_type": "code",
   "execution_count": 13,
   "metadata": {},
   "outputs": [],
   "source": [
    "class dog():\n",
    "    '''create a dog class like talking tom game'''\n",
    "    def __init__(self,name,age):\n",
    "        self.name=name\n",
    "        self.age=age\n",
    "        print(\"Collecting the name and age from user\")\n",
    "    def jump(self):\n",
    "        print(f\"Dog of name {self.name} is jumping on command\")\n",
    "    def sleep(self):\n",
    "        print(f\"Dog sleeping there is of age{self.age}\")\n",
    "    def rollover(self):\n",
    "        print(f\"{self.name} is rolling on command\")\n",
    "    def eat(self):\n",
    "        print(f\"{self.name} of age{self.age} is eating\")\n",
    "    def details(self):\n",
    "        print(f\"{self.name} is name of the dog\")\n",
    "        print(f\"{self.name} is of {self.name} year's old\")"
   ]
  },
  {
   "cell_type": "code",
   "execution_count": 14,
   "metadata": {},
   "outputs": [
    {
     "name": "stdout",
     "output_type": "stream",
     "text": [
      "Collecting the name and age from user\n"
     ]
    }
   ],
   "source": [
    "dogs=dog('bravo',2) "
   ]
  },
  {
   "cell_type": "code",
   "execution_count": 15,
   "metadata": {},
   "outputs": [
    {
     "name": "stdout",
     "output_type": "stream",
     "text": [
      "Dog of name bravo is jumping on command\n"
     ]
    }
   ],
   "source": [
    "dogs.jump()"
   ]
  },
  {
   "cell_type": "code",
   "execution_count": 16,
   "metadata": {},
   "outputs": [
    {
     "name": "stdout",
     "output_type": "stream",
     "text": [
      "bravo is name of the dog\n",
      "bravo is of bravo year's old\n"
     ]
    }
   ],
   "source": [
    "dogs.details()"
   ]
  },
  {
   "cell_type": "code",
   "execution_count": 17,
   "metadata": {},
   "outputs": [
    {
     "name": "stdout",
     "output_type": "stream",
     "text": [
      "bravo of age2 is eating\n"
     ]
    }
   ],
   "source": [
    "dogs.eat()"
   ]
  },
  {
   "cell_type": "code",
   "execution_count": null,
   "metadata": {},
   "outputs": [],
   "source": [
    "\n"
   ]
  }
 ],
 "metadata": {
  "kernelspec": {
   "display_name": "Python 3",
   "language": "python",
   "name": "python3"
  },
  "language_info": {
   "codemirror_mode": {
    "name": "ipython",
    "version": 3
   },
   "file_extension": ".py",
   "mimetype": "text/x-python",
   "name": "python",
   "nbconvert_exporter": "python",
   "pygments_lexer": "ipython3",
   "version": "3.8.3"
  }
 },
 "nbformat": 4,
 "nbformat_minor": 4
}
