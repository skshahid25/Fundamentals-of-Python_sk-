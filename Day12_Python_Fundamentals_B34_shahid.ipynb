{
 "cells": [
  {
   "cell_type": "markdown",
   "metadata": {},
   "source": [
    "# Day 12"
   ]
  },
  {
   "cell_type": "code",
   "execution_count": 1,
   "metadata": {},
   "outputs": [],
   "source": [
    "# User accepted input"
   ]
  },
  {
   "cell_type": "code",
   "execution_count": 2,
   "metadata": {},
   "outputs": [
    {
     "name": "stdout",
     "output_type": "stream",
     "text": [
      "Tell me something and i will repeatHello\n",
      "Hello\n"
     ]
    }
   ],
   "source": [
    "message=input('Tell me something and i will repeat')\n",
    "print(message)"
   ]
  },
  {
   "cell_type": "code",
   "execution_count": 6,
   "metadata": {},
   "outputs": [
    {
     "name": "stdout",
     "output_type": "stream",
     "text": [
      "Tell me your nameShahid\n",
      "\n",
      "Hello,Shahid\n"
     ]
    }
   ],
   "source": [
    "name=input('Tell me your name')\n",
    "print(f\"\\nHello,{name.title()}\")"
   ]
  },
  {
   "cell_type": "code",
   "execution_count": 10,
   "metadata": {},
   "outputs": [],
   "source": [
    "prompt=\"Tell me about you \"\n",
    "prompt+=\"\\nTell me your first name\""
   ]
  },
  {
   "cell_type": "code",
   "execution_count": 11,
   "metadata": {},
   "outputs": [
    {
     "name": "stdout",
     "output_type": "stream",
     "text": [
      "Tell me about you \n",
      "Tell me your first nameshahid\n",
      "\n",
      " Hello,Shahid\n"
     ]
    }
   ],
   "source": [
    "message=input(prompt)\n",
    "print(f\"\\n Hello,{message.title()}\")"
   ]
  },
  {
   "cell_type": "code",
   "execution_count": 12,
   "metadata": {},
   "outputs": [],
   "source": [
    "# Intro to while loops"
   ]
  },
  {
   "cell_type": "code",
   "execution_count": 13,
   "metadata": {},
   "outputs": [
    {
     "name": "stdout",
     "output_type": "stream",
     "text": [
      "1\n",
      "2\n",
      "3\n",
      "4\n",
      "5\n"
     ]
    }
   ],
   "source": [
    "current_number =1\n",
    "while current_number<=5:\n",
    "    print(current_number)\n",
    "    current_number+=1\n",
    "    "
   ]
  },
  {
   "cell_type": "code",
   "execution_count": 14,
   "metadata": {},
   "outputs": [],
   "source": [
    "prompt=\"tell me and i will repeat\"\n",
    "prompt+=\"\\n enter quit to end the loop\""
   ]
  },
  {
   "cell_type": "code",
   "execution_count": 16,
   "metadata": {},
   "outputs": [
    {
     "name": "stdout",
     "output_type": "stream",
     "text": [
      "tell me and i will repeat\n",
      " enter quit to end the loopHello shaik shahid basha\n",
      "Hello shaik shahid basha\n",
      "tell me and i will repeat\n",
      " enter quit to end the loopjust for pratcise\n",
      "just for pratcise\n",
      "tell me and i will repeat\n",
      " enter quit to end the loopdone\n",
      "done\n",
      "tell me and i will repeat\n",
      " enter quit to end the loopquit\n",
      "quit\n",
      "tell me and i will repeat\n",
      " enter quit to end the loopQuit\n",
      "Quit\n"
     ]
    }
   ],
   "source": [
    "while line!='Quit':\n",
    "    line=input(prompt)\n",
    "    print(line)"
   ]
  },
  {
   "cell_type": "code",
   "execution_count": 18,
   "metadata": {},
   "outputs": [
    {
     "name": "stdout",
     "output_type": "stream",
     "text": [
      "Enter the numeber10\n",
      "10 X 1 = 10\n",
      "10 X 2 = 20\n",
      "10 X 3 = 30\n",
      "10 X 4 = 40\n",
      "10 X 5 = 50\n",
      "10 X 6 = 60\n",
      "10 X 7 = 70\n",
      "10 X 8 = 80\n",
      "10 X 9 = 90\n",
      "10 X 10 = 100\n"
     ]
    }
   ],
   "source": [
    "number=int(input('Enter the numeber'))\n",
    "i=1\n",
    "while i!=11:\n",
    "    print(number,'X',i,'=',number*i)\n",
    "    i+=1"
   ]
  },
  {
   "cell_type": "code",
   "execution_count": null,
   "metadata": {},
   "outputs": [],
   "source": []
  }
 ],
 "metadata": {
  "kernelspec": {
   "display_name": "Python 3",
   "language": "python",
   "name": "python3"
  },
  "language_info": {
   "codemirror_mode": {
    "name": "ipython",
    "version": 3
   },
   "file_extension": ".py",
   "mimetype": "text/x-python",
   "name": "python",
   "nbconvert_exporter": "python",
   "pygments_lexer": "ipython3",
   "version": "3.8.3"
  }
 },
 "nbformat": 4,
 "nbformat_minor": 4
}
