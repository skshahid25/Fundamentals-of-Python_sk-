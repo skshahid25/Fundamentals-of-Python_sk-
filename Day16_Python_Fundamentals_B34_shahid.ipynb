{
 "cells": [
  {
   "cell_type": "markdown",
   "metadata": {},
   "source": [
    "# Day 16"
   ]
  },
  {
   "cell_type": "code",
   "execution_count": 2,
   "metadata": {},
   "outputs": [],
   "source": [
    "# Req:- Creating a greeting class\n",
    "# Accespt input from user, display it and greet person\n"
   ]
  },
  {
   "cell_type": "code",
   "execution_count": 27,
   "metadata": {},
   "outputs": [],
   "source": [
    "class greet():\n",
    "    '''Creating a greet class to welcome/greet user'''\n",
    "    def name(self,name):\n",
    "        self.name=name\n",
    "    def display(self):\n",
    "        print(f\"The name of user is:{self.name}\")\n",
    "    def greetuser(self):\n",
    "        print(f\" Hello, {self.name}. Welcome to coding world..!!\")"
   ]
  },
  {
   "cell_type": "code",
   "execution_count": 28,
   "metadata": {},
   "outputs": [],
   "source": [
    "test=greet()"
   ]
  },
  {
   "cell_type": "code",
   "execution_count": 29,
   "metadata": {},
   "outputs": [],
   "source": [
    "test.name('Shahid')"
   ]
  },
  {
   "cell_type": "code",
   "execution_count": 30,
   "metadata": {},
   "outputs": [
    {
     "name": "stdout",
     "output_type": "stream",
     "text": [
      "The name of user is:Shahid\n",
      " Hello, Shahid. Welcome to coding world..!!\n"
     ]
    }
   ],
   "source": [
    "test.display()\n",
    "test.greetuser()"
   ]
  },
  {
   "cell_type": "code",
   "execution_count": 31,
   "metadata": {},
   "outputs": [],
   "source": [
    "user=greet()"
   ]
  },
  {
   "cell_type": "code",
   "execution_count": 32,
   "metadata": {},
   "outputs": [
    {
     "name": "stdout",
     "output_type": "stream",
     "text": [
      "The name of user is:Basha\n",
      " Hello, Basha. Welcome to coding world..!!\n"
     ]
    }
   ],
   "source": [
    "user.name('Basha')\n",
    "user.display()\n",
    "user.greetuser()"
   ]
  },
  {
   "cell_type": "code",
   "execution_count": 33,
   "metadata": {},
   "outputs": [],
   "source": [
    "# Req:- Create a greeting class which calculates average of numbers\n",
    "# 1) Take input from student the details like name,age,gender,section\n",
    "# 1) marks in different subjects and get average and display it"
   ]
  },
  {
   "cell_type": "code",
   "execution_count": 90,
   "metadata": {},
   "outputs": [],
   "source": [
    "class student:\n",
    "    '''creating student class to get basic details along with average of subjects'''\n",
    "    avg=0\n",
    "    def username(self,name,age,gender,section):\n",
    "        print('enter the details')\n",
    "        self.name=name\n",
    "        self.age=age\n",
    "        self.gender=gender\n",
    "        self.section=section\n",
    "    def subjects(self,maths,physics,english):\n",
    "        self.maths=maths\n",
    "        self.physics=physics\n",
    "        self.english=english\n",
    "    def display(self):\n",
    "        print(f\"Hello,{self.name}\")\n",
    "        print(f\"Basic details of you are: {self.name},{self.age},{self.gender},{self.section}\")\n",
    "        print(f\"Your marks obtained are:  {self.maths},{self.physics},{self.english}\")\n",
    "    def average(self):\n",
    "        avg=(self.maths+self.physics+self.english)/3\n",
    "        if avg > 60:\n",
    "            print(f\" The average of student name {self.name} is {avg}, Congrats you are pass\")\n",
    "        else:\n",
    "            print(f\" The average of student name {self.name} is {avg}, Better luck next time, Fail\")\n",
    "    \n",
    "    \n",
    "        "
   ]
  },
  {
   "cell_type": "code",
   "execution_count": 91,
   "metadata": {},
   "outputs": [
    {
     "name": "stdout",
     "output_type": "stream",
     "text": [
      "enter name: Naveen\n",
      "enter the  age: 25\n",
      "enter the gender M/F: M\n",
      "enter the section: B\n"
     ]
    }
   ],
   "source": [
    "student1=student()\n",
    "name=input('enter name: ')\n",
    "age=input('enter the  age: ')\n",
    "gender=input('enter the gender M/F: ')\n",
    "section=input('enter the section: ')"
   ]
  },
  {
   "cell_type": "code",
   "execution_count": 92,
   "metadata": {},
   "outputs": [
    {
     "name": "stdout",
     "output_type": "stream",
     "text": [
      "enter the details\n"
     ]
    }
   ],
   "source": [
    "student1.username(name,age,gender,section)"
   ]
  },
  {
   "cell_type": "code",
   "execution_count": 93,
   "metadata": {},
   "outputs": [
    {
     "name": "stdout",
     "output_type": "stream",
     "text": [
      "enter maths marks: 55\n",
      "enter physics marks: 40\n",
      "enter english marks: 40\n",
      "<class 'int'>\n"
     ]
    }
   ],
   "source": [
    "maths=int(input('enter maths marks: '))\n",
    "physics=int(input('enter physics marks: '))\n",
    "english=int(input('enter english marks: '))\n",
    "student1.subjects(maths,physics,english)\n",
    "print(type(maths))"
   ]
  },
  {
   "cell_type": "code",
   "execution_count": 94,
   "metadata": {},
   "outputs": [
    {
     "name": "stdout",
     "output_type": "stream",
     "text": [
      "Hello,Naveen\n",
      "Basic details of you are: Naveen,25,M,B\n",
      "Your marks obtained are:  55,40,40\n"
     ]
    }
   ],
   "source": [
    "student1.display()"
   ]
  },
  {
   "cell_type": "code",
   "execution_count": 95,
   "metadata": {},
   "outputs": [
    {
     "name": "stdout",
     "output_type": "stream",
     "text": [
      " The average of student name Naveen is 45.0, Better luck next time, Fail\n"
     ]
    }
   ],
   "source": [
    "student1.average()"
   ]
  },
  {
   "cell_type": "code",
   "execution_count": null,
   "metadata": {},
   "outputs": [],
   "source": []
  }
 ],
 "metadata": {
  "kernelspec": {
   "display_name": "Python 3",
   "language": "python",
   "name": "python3"
  },
  "language_info": {
   "codemirror_mode": {
    "name": "ipython",
    "version": 3
   },
   "file_extension": ".py",
   "mimetype": "text/x-python",
   "name": "python",
   "nbconvert_exporter": "python",
   "pygments_lexer": "ipython3",
   "version": "3.8.3"
  }
 },
 "nbformat": 4,
 "nbformat_minor": 4
}
